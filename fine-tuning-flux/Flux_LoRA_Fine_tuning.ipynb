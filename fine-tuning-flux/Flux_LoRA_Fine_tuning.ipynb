{
  "nbformat": 4,
  "nbformat_minor": 0,
  "metadata": {
    "colab": {
      "provenance": []
    },
    "kernelspec": {
      "name": "python3",
      "display_name": "Python 3"
    },
    "language_info": {
      "name": "python"
    }
  },
  "cells": [
    {
      "cell_type": "markdown",
      "source": [
        "# Flux.1\n",
        "\n",
        "> Sígueme en RRSS para apoyar este contenido ❤️: <br>\n",
        "x -> [@codingmindsetio](https://x.com/codingmindsetio) <br>\n",
        "YT 🎥 -> [CodingMindset](https://www.youtube.com/@CodingMindsetIO?sub_confirmation=1) <br>\n",
        "IG 📸 -> [@codingmindset](https://www.instagram.com/codingmindset?igsh=ZGx5aGd4MXBwYmx5&utm_source=qr)"
      ],
      "metadata": {
        "id": "XKdAR4-7L2tr"
      }
    },
    {
      "cell_type": "markdown",
      "source": [
        "\n",
        "## Características clave de los modelos Flux:\n",
        "\n"
      ],
      "metadata": {
        "id": "vQRrlhgqL_VJ"
      }
    },
    {
      "cell_type": "markdown",
      "source": [
        "* **Calidad de imagen de vanguardia:** Flux produce imágenes de alta calidad, rivalizando e incluso superando a otros modelos de IA de generación de imágenes de código cerrado.\n",
        "* **Excelente seguimiento de instrucciones:** Flux destaca por su capacidad de seguir las indicaciones del usuario con precisión, lo que se traduce en imágenes que reflejan fielmente la visión del usuario.\n",
        "* **Variedad de modelos:** Black Forest Labs ofrece tres modelos principales de Flux:\n",
        "    * **Flux.1 [pro]**: El modelo base, disponible a través de su API, representa la máxima calidad de imagen y seguimiento de instrucciones.\n",
        "    * **Flux.1 [dev]**: Un modelo de código abierto, destilado por guía, que ofrece una calidad similar a la versión Pro, pero con mayor eficiencia. Ideal para investigación y desarrollo no comercial.\n",
        "    * **Flux.1 [schnell]**: También de código abierto, este modelo está optimizado para la velocidad, lo que lo hace perfecto para uso personal y desarrollo local.\n",
        "\n",
        "* **Capacidades de código abierto:** Los modelos [dev] y [schnell] son de código abierto, lo que fomenta la investigación, la experimentación y el desarrollo de nuevas aplicaciones creativas.\n",
        "* **Flexibilidad de licencias:**  \n",
        "    * **Flux.1 [pro]**: Disponible como servicio comercial a través de su API.\n",
        "    * **Flux.1 [dev]**: Licencia no comercial, ideal para investigación y desarrollo.\n",
        "    * **Flux.1 [schnell]**: Licencia Apache 2.0, lo que permite un uso más amplio, incluso comercial.\n",
        "\n",
        "### En resumen:\n",
        "\n",
        "Flux de Black Forest Labs ofrece una gama de modelos de generación de imágenes de IA de alta calidad, con opciones tanto de código abierto como comerciales, que se adaptan a diversas necesidades y casos de uso. Ya sea para crear arte impresionante, impulsar la investigación o desarrollar aplicaciones innovadoras, Flux se posiciona como una herramienta poderosa y versátil en el panorama de la IA generativa."
      ],
      "metadata": {
        "id": "Z-jvB1WfObOO"
      }
    },
    {
      "cell_type": "markdown",
      "source": [
        "# Replicate"
      ],
      "metadata": {
        "id": "RhtJyLIOSKTC"
      }
    },
    {
      "cell_type": "markdown",
      "source": [
        "Replicate.com es una plataforma en la nube que permite a los desarrolladores ejecutar fácilmente modelos de aprendizaje automático (machine learning) a través de una API simple. Ofrece una amplia variedad de modelos pre-entrenados para tareas como generación de imágenes, edición de imágenes, procesamiento de lenguaje natural y más, facilitando la integración de la IA en aplicaciones sin necesidad de una infraestructura compleja."
      ],
      "metadata": {
        "id": "XXajGntbSOpf"
      }
    },
    {
      "cell_type": "markdown",
      "source": [
        "## Método 1 - UI\n",
        "\n"
      ],
      "metadata": {
        "id": "PmwLIAgGSUs7"
      }
    },
    {
      "cell_type": "markdown",
      "source": [
        "[Replicate Fux-dev LoRA Trainer](https://replicate.com/ostris/flux-dev-lora-trainer/train)"
      ],
      "metadata": {
        "id": "ixLs1-pYSaso"
      }
    },
    {
      "cell_type": "markdown",
      "source": [
        "## Método 2 - Replicate API\n",
        "\n"
      ],
      "metadata": {
        "id": "y_Dzf9OzVFsO"
      }
    },
    {
      "cell_type": "code",
      "source": [
        "!pip install -qqq replicate"
      ],
      "metadata": {
        "colab": {
          "base_uri": "https://localhost:8080/"
        },
        "id": "914EJN0PWfLZ",
        "outputId": "615c0bfa-278c-42dd-d269-483314274e37"
      },
      "execution_count": null,
      "outputs": [
        {
          "output_type": "stream",
          "name": "stdout",
          "text": [
            "\u001b[?25l   \u001b[90m━━━━━━━━━━━━━━━━━━━━━━━━━━━━━━━━━━━━━━━━\u001b[0m \u001b[32m0.0/44.6 kB\u001b[0m \u001b[31m?\u001b[0m eta \u001b[36m-:--:--\u001b[0m\r\u001b[2K   \u001b[90m━━━━━━━━━━━━━━━━━━━━━━━━━━━━━━━━━━━━━━━━\u001b[0m \u001b[32m44.6/44.6 kB\u001b[0m \u001b[31m2.2 MB/s\u001b[0m eta \u001b[36m0:00:00\u001b[0m\n",
            "\u001b[?25h\u001b[?25l   \u001b[90m━━━━━━━━━━━━━━━━━━━━━━━━━━━━━━━━━━━━━━━━\u001b[0m \u001b[32m0.0/76.4 kB\u001b[0m \u001b[31m?\u001b[0m eta \u001b[36m-:--:--\u001b[0m\r\u001b[2K   \u001b[90m━━━━━━━━━━━━━━━━━━━━━━━━━━━━━━━━━━━━━━━━\u001b[0m \u001b[32m76.4/76.4 kB\u001b[0m \u001b[31m3.6 MB/s\u001b[0m eta \u001b[36m0:00:00\u001b[0m\n",
            "\u001b[2K   \u001b[90m━━━━━━━━━━━━━━━━━━━━━━━━━━━━━━━━━━━━━━━━\u001b[0m \u001b[32m77.9/77.9 kB\u001b[0m \u001b[31m4.7 MB/s\u001b[0m eta \u001b[36m0:00:00\u001b[0m\n",
            "\u001b[2K   \u001b[90m━━━━━━━━━━━━━━━━━━━━━━━━━━━━━━━━━━━━━━━━\u001b[0m \u001b[32m58.3/58.3 kB\u001b[0m \u001b[31m4.1 MB/s\u001b[0m eta \u001b[36m0:00:00\u001b[0m\n",
            "\u001b[?25h"
          ]
        }
      ]
    },
    {
      "cell_type": "markdown",
      "source": [],
      "metadata": {
        "id": "mIeLpelfXoKy"
      }
    },
    {
      "cell_type": "code",
      "source": [
        "import os\n",
        "from getpass import getpass\n",
        "\n",
        "# Verificar si la variable de entorno ya existe\n",
        "if 'REPLICATE_API_TOKEN' in os.environ:\n",
        "    replicate_api_token = os.environ['REPLICATE_API_TOKEN']\n",
        "    print(\"La variable de entorno REPLICATE_API_TOKEN ya está configurada.\")\n",
        "else:\n",
        "    # Pedir al usuario que introduzca el token\n",
        "    replicate_api_token = getpass(\"Por favor, introduce tu REPLICATE_API_TOKEN: \")\n",
        "\n",
        "    # Establecer la variable de entorno (sólo para esta sesión)\n",
        "    os.environ['REPLICATE_API_TOKEN'] = replicate_api_token\n",
        "    print(\"La variable de entorno REPLICATE_API_TOKEN ha sido configurada.\")"
      ],
      "metadata": {
        "id": "naOB3yVbL-OK",
        "colab": {
          "base_uri": "https://localhost:8080/"
        },
        "outputId": "0288df75-e0ee-4d87-cd1c-a27c7f16ed40"
      },
      "execution_count": null,
      "outputs": [
        {
          "output_type": "stream",
          "name": "stdout",
          "text": [
            "Por favor, introduce tu REPLICATE_API_TOKEN: ··········\n",
            "La variable de entorno REPLICATE_API_TOKEN ha sido configurada.\n"
          ]
        }
      ]
    },
    {
      "cell_type": "markdown",
      "source": [
        "### Configuramos las carcterísticas de nuestro futuro modelo"
      ],
      "metadata": {
        "id": "cmp9mhdhXw22"
      }
    },
    {
      "cell_type": "code",
      "source": [
        "import replicate\n",
        "\n",
        "model = replicate.models.create(\n",
        "    owner=\"3lv27\",\n",
        "    name=\"flux-your-model-name\",\n",
        "    visibility=\"public\",  # o \"private\" si lo prefieres\n",
        "    hardware=\"gpu-t4\",  # Todos los modelos FLux son ruteados a una H100\n",
        "    description=\"A fine-tuned FLUX.1 model\"\n",
        ")\n",
        "\n",
        "print(f\"Model created: {model.name}\")\n",
        "print(f\"Model URL: https://replicate.com/{model.owner}/{model.name}\")"
      ],
      "metadata": {
        "id": "GVEKbXXeWVq4"
      },
      "execution_count": null,
      "outputs": []
    },
    {
      "cell_type": "markdown",
      "source": [
        "### Creamos el entrenamiento y configuramos el destino"
      ],
      "metadata": {
        "id": "amu_2zMCYGlX"
      }
    },
    {
      "cell_type": "markdown",
      "source": [
        "#### Parámetros dentro de `input`\n",
        "\n",
        "* `input_images`: Ruta al archivo ZIP con tus imágenes de entrenamiento. ¡Verifica que la ruta sea correcta y el ZIP esté bien organizado!\n",
        "* `steps`: Cantidad de pasos de entrenamiento. Más pasos = modelo más preciso, pero entrenamiento más largo.\n",
        "* `lora_rank`: Controla la complejidad del modelo LoRA. Mayor valor = modelo más expresivo, pero posible sobreajuste.\n",
        "* `optimizer`: Algoritmo para ajustar los pesos del modelo. \"adamw8bit\" es una opción popular y eficiente.\n",
        "* `resolution`: Resoluciones de imagen para el entrenamiento (separadas por comas).\n",
        "* `autocaption`: Si es `True`, el modelo intenta generar descripciones para tus imágenes automáticamente. Útil si no tienes descripciones previas.\n",
        "* `learning_rate`: Magnitud de los ajustes en los pesos del modelo. Mayor valor = entrenamiento más rápido, pero posible dificultad para converger.\n",
        "* `trigger_word`: Palabra o frase que activará tu modelo LoRA para generar imágenes. ¡Elige algo único que no esté en las descripciones de tus imágenes!\n",
        "* `hf_token`, `hf_repo_id`: (Opcionales) Para guardar tu modelo en Hugging Face. Necesitas tu token de acceso y el ID del repositorio.\n"
      ],
      "metadata": {
        "id": "DPS5ntWo0Bun"
      }
    },
    {
      "cell_type": "code",
      "source": [
        "# El destino es el modelo que hemos creado en el paso anterior\n",
        "training = replicate.trainings.create(\n",
        "    version=\"ostris/flux-dev-lora-trainer:4ffd32160efd92e956d39c5338a9b8fbafca58e03f791f6d8011f3e20e8ea6fa\",\n",
        "    input={\n",
        "        \"input_images\": open(\"/path/to/your/local/training-images.zip\", \"rb\"), # Ruta hacia tus archivo ZIP\n",
        "        \"steps\": 1000,\n",
        "        \"lora_rank\": 16,\n",
        "        \"optimizer\": \"adamw8bit\",\n",
        "        \"resolution\": \"512,768,1024\",\n",
        "        \"autocaption\": True,\n",
        "        \"learning_rate\": 0.0004,\n",
        "        \"trigger_word\": \"TOK\", # IMPORTANTE! Cambia este valor a tu preferencia\n",
        "        \"hf_token\": \"YOUR_HUGGING_FACE_TOKEN\",  # optional\n",
        "        \"hf_repo_id\": \"YOUR_HUGGING_FACE_REPO_ID\",  # optional\n",
        "    },\n",
        "    destination=f\"{model.owner}/{model.name}\"\n",
        ")\n",
        "\n",
        "print(f\"Training started: {training.status}\")\n",
        "print(f\"Training URL: https://replicate.com/p/{training.id}\")"
      ],
      "metadata": {
        "id": "8I4O3j0RXOfD"
      },
      "execution_count": null,
      "outputs": []
    },
    {
      "cell_type": "markdown",
      "source": [
        "### Uso de nuestro modelo"
      ],
      "metadata": {
        "id": "Mky1xdhYYj7l"
      }
    },
    {
      "cell_type": "code",
      "source": [
        "import replicate\n",
        "\n",
        "input = {\n",
        "    \"prompt\": \"A photorealistic image of EGM, an adult man with short dark hair and blue eyes, wearing a Deadpool costume body suit but with NO mask or head covering of any kind. His entire face is fully visible and unobstructed, showing a confident smile. The costume is the distinctive red and black Deadpool suit covering his body, arms, and legs, but stops at the neck, leaving his head and face completely exposed. He is standing triumphantly with arms raised atop Mount Everest, with the distinctive snowy peak and surrounding Himalayan mountains visible in the background. The scene is bathed in the warm, golden light of dawn, with a dramatic sky showing the sun just beginning to rise over the horizon.\"\n",
        "}\n",
        "\n",
        "output = replicate.run(\n",
        "    \"3lv27/elvin-flux:8262810cc5573521eb4bfad06ab374dabeb42f30bd778dcaac3ab75642178095\",\n",
        "    input=input\n",
        ")\n",
        "print(output)\n"
      ],
      "metadata": {
        "id": "BXmOLoHNajCS"
      },
      "execution_count": null,
      "outputs": []
    },
    {
      "cell_type": "code",
      "source": [
        "import replicate\n",
        "\n",
        "output = replicate.run(\n",
        "    \"yourusername/flux-your-model-name:version_id\",\n",
        "    input={\n",
        "        \"prompt\": \"A portrait photo of a space station, bad 70s food\",\n",
        "        \"num_inference_steps\": 28,\n",
        "        \"guidance_scale\": 7.5,\n",
        "        \"model\": \"dev\",\n",
        "    }\n",
        ")\n",
        "\n",
        "print(f\"Generated image URL: {output}\")"
      ],
      "metadata": {
        "id": "rBGxBOnCYmtD"
      },
      "execution_count": null,
      "outputs": []
    },
    {
      "cell_type": "markdown",
      "source": [
        "## Método 3 - Ostris AI Toolkit\n"
      ],
      "metadata": {
        "id": "x4AE2RI0ayCZ"
      }
    },
    {
      "cell_type": "markdown",
      "source": [
        "[AI Toolkit Github](https://github.com/ostris/ai-toolkit)"
      ],
      "metadata": {
        "id": "wYpGoQsDcfob"
      }
    },
    {
      "cell_type": "markdown",
      "source": [
        "> Sígueme en RRSS para apoyar este contenido ❤️: <br>\n",
        "x -> [@codingmindsetio](https://x.com/codingmindsetio) <br>\n",
        "YT 🎥 -> [CodingMindset](https://www.youtube.com/@CodingMindsetIO?sub_confirmation=1) <br>\n",
        "IG 📸 -> [@codingmindset](https://www.instagram.com/codingmindset?igsh=ZGx5aGd4MXBwYmx5&utm_source=qr)"
      ],
      "metadata": {
        "id": "ESsb_HL9czQq"
      }
    },
    {
      "cell_type": "code",
      "source": [],
      "metadata": {
        "id": "5rOqUKl_a4AS"
      },
      "execution_count": null,
      "outputs": []
    }
  ]
}